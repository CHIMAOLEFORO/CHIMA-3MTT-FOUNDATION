{
 "cells": [
  {
   "cell_type": "markdown",
   "metadata": {},
   "source": [
    "# Functions In Python\n",
    "\n",
    "A function is a block of organized, reusable code that is used to perform a single, related action. Functions provide better modularity for your application and a high degree of code reusing.\n",
    "\n",
    "### Defining a Function\n",
    "You can define functions by following the rules below:\n",
    "\n",
    "* Function blocks begin with the keyword __def__ followed by the function name and parentheses ( ( ) ).\n",
    "\n",
    "* Any input parameters or arguments should be placed within these parentheses. You can also define parameters inside these parentheses.\n",
    "\n",
    "* The first statement of a function can be an optional statement - the documentation string of the function or docstring.\n",
    "\n",
    "* The code block within every function starts with a colon (:) and is indented.\n",
    "\n",
    "* The statement return [expression] exits a function, optionally passing back an expression to the caller. A return statement with no arguments is the same as return None.\n",
    "\n",
    "\n",
    "```python\n",
    "def functionname( parameters ):\n",
    "   \"function_docstring descrinng what the function does\"\n",
    "\n",
    "   # list of expressions to be executed\n",
    "    \n",
    "   return [expression]\n",
    "\n",
    "```\n",
    "\n",
    "### Example\n",
    "The following function takes a two numbers as input parameters and prints out the sum:"
   ]
  },
  {
   "cell_type": "code",
   "execution_count": 1,
   "metadata": {},
   "outputs": [],
   "source": [
    "def print_sum(a, b):\n",
    "    \"This prints the sum of two numbers a and b\"\n",
    "    print(a + b)\n",
    "    return"
   ]
  },
  {
   "cell_type": "markdown",
   "metadata": {},
   "source": [
    "### Calling a Function\n",
    "Defining a function only gives it a name, specifies the parameters that are to be included in the function and structures the blocks of code. Inorder to use the function, you must call the name and pass in the required parameters.\n",
    "\n",
    "To demonstrate this, we call the __print_sum__ function we created above:"
   ]
  },
  {
   "cell_type": "code",
   "execution_count": 4,
   "metadata": {},
   "outputs": [
    {
     "name": "stdout",
     "output_type": "stream",
     "text": [
      "77\n"
     ]
    }
   ],
   "source": [
    "#calling the function\n",
    "print_sum(71,6)"
   ]
  },
  {
   "cell_type": "code",
   "execution_count": 5,
   "metadata": {},
   "outputs": [
    {
     "name": "stdout",
     "output_type": "stream",
     "text": [
      "1100\n"
     ]
    }
   ],
   "source": [
    "print_sum(100, 1000)"
   ]
  },
  {
   "cell_type": "markdown",
   "metadata": {},
   "source": [
    "## Passing values\n",
    "\n",
    "### Pass by reference\n",
    "All parameters (arguments) in the Python language are passed by reference. It means if you change what a parameter refers to within a function, the change also reflects back in the calling function. For example:"
   ]
  },
  {
   "cell_type": "code",
   "execution_count": 5,
   "metadata": {},
   "outputs": [
    {
     "name": "stdout",
     "output_type": "stream",
     "text": [
      "The passed name is John Stone\n",
      "The new name in this function is Harry Potter\n"
     ]
    }
   ],
   "source": [
    "def change_name(name):\n",
    "    print(\"The passed name is {}\".format(name))\n",
    "    #change the name\n",
    "    name = \"Harry Potter\"\n",
    "    print(\"The new name in this function is {}\".format(name))\n",
    "    return\n",
    "\n",
    "#call the function\n",
    "name = \"John Stone\"\n",
    "change_name(name)"
   ]
  },
  {
   "cell_type": "markdown",
   "metadata": {},
   "source": [
    "## Function Arguments\n",
    "You can call a function by using the following types of formal arguments:\n",
    "\n",
    "* Required arguments\n",
    "* Keyword arguments\n",
    "* Default arguments\n",
    "* Variable-length arguments\n",
    "\n",
    "### Required arguments\n",
    "Required arguments are the arguments passed to a function in correct positional order. Here, the number of arguments in the function call should match exactly with the function definition.\n",
    "For example, the function change_name above requires one argument for it to work. If you call the function without the required argument it throws an error."
   ]
  },
  {
   "cell_type": "code",
   "execution_count": 7,
   "metadata": {},
   "outputs": [
    {
     "ename": "TypeError",
     "evalue": "change_name() missing 1 required positional argument: 'name'",
     "output_type": "error",
     "traceback": [
      "\u001b[1;31m---------------------------------------------------------------------------\u001b[0m",
      "\u001b[1;31mTypeError\u001b[0m                                 Traceback (most recent call last)",
      "Cell \u001b[1;32mIn[7], line 1\u001b[0m\n\u001b[1;32m----> 1\u001b[0m change_name()\n",
      "\u001b[1;31mTypeError\u001b[0m: change_name() missing 1 required positional argument: 'name'"
     ]
    }
   ],
   "source": [
    "change_name()"
   ]
  },
  {
   "cell_type": "code",
   "execution_count": 8,
   "metadata": {},
   "outputs": [
    {
     "name": "stdout",
     "output_type": "stream",
     "text": [
      "The passed name is Opeyemi\n",
      "The new name in this function is Harry Potter\n"
     ]
    }
   ],
   "source": [
    "change_name(\"Opeyemi\")"
   ]
  },
  {
   "cell_type": "markdown",
   "metadata": {},
   "source": [
    "### Keyword arguments\n",
    "\n",
    "Keyword arguments are related to the function calls. When you use keyword arguments in a function call, the caller identifies the arguments by the parameter name."
   ]
  },
  {
   "cell_type": "code",
   "execution_count": 9,
   "metadata": {},
   "outputs": [
    {
     "name": "stdout",
     "output_type": "stream",
     "text": [
      "The passed name is Mercy\n",
      "The new name in this function is Harry Potter\n"
     ]
    }
   ],
   "source": [
    "change_name(name=\"Mercy\")"
   ]
  },
  {
   "cell_type": "code",
   "execution_count": 10,
   "metadata": {},
   "outputs": [
    {
     "name": "stdout",
     "output_type": "stream",
     "text": [
      "Name:  Jesse\n",
      "Age  20\n"
     ]
    }
   ],
   "source": [
    "def printinfo(name,age):\n",
    "    \"This prints the info about a person\"\n",
    "    print(\"Name: \", name)\n",
    "    print(\"Age \", age)\n",
    "    return\n",
    "\n",
    "printinfo(name=\"Jesse\", age=20)"
   ]
  },
  {
   "cell_type": "markdown",
   "metadata": {},
   "source": [
    "### Default arguments\n",
    "A default argument is an argument that assumes a default value if a value is not provided in the function call for that argument. The following example gives an idea on default arguments, it prints default age if it is not passed."
   ]
  },
  {
   "cell_type": "code",
   "execution_count": 11,
   "metadata": {},
   "outputs": [
    {
     "name": "stdout",
     "output_type": "stream",
     "text": [
      "Age  25\n"
     ]
    }
   ],
   "source": [
    "def printinfo(age=25):\n",
    "    \"This prints the info about a person\"\n",
    "    print(\"Age \", age)\n",
    "    return\n",
    "\n",
    "\n",
    "printinfo()"
   ]
  },
  {
   "cell_type": "code",
   "execution_count": 12,
   "metadata": {},
   "outputs": [
    {
     "name": "stdout",
     "output_type": "stream",
     "text": [
      "Age  45\n"
     ]
    }
   ],
   "source": [
    "printinfo(45)"
   ]
  },
  {
   "cell_type": "markdown",
   "metadata": {},
   "source": [
    "### Variable-length arguments\n",
    "You may need to process a function for more arguments than you specified while defining the function. These arguments are called variable-length arguments and are not named in the function definition, unlike required and default arguments.\n",
    "\n",
    "```python\n",
    "def functionname([formal_args,] *var_args_tuple ):\n",
    "   \"function_docstring\"\n",
    "   function_expressions\n",
    "   return [expression]\n",
    "\n",
    "```\n",
    "\n",
    "An asterisk (\\*) is placed before the variable name that holds the values of all nonkeyword variable arguments. This tuple remains empty if no additional arguments are specified during the function call. Following is a simple example::"
   ]
  },
  {
   "cell_type": "code",
   "execution_count": 13,
   "metadata": {},
   "outputs": [],
   "source": [
    "def printargs(name, *scores):\n",
    "   \"This prints a variable passed arguments\"\n",
    "   print(\"Name is: {}\".format(name))\n",
    "   #print info in variable leanght arguments\n",
    "   for var in scores:\n",
    "        print(var)\n",
    "        "
   ]
  },
  {
   "cell_type": "code",
   "execution_count": 15,
   "metadata": {},
   "outputs": [
    {
     "name": "stdout",
     "output_type": "stream",
     "text": [
      "Name is: John\n",
      "80\n",
      "90\n",
      "98\n",
      "97\n",
      "100\n"
     ]
    }
   ],
   "source": [
    "printargs(\"John\", 80,90,98,97,100)"
   ]
  },
  {
   "cell_type": "markdown",
   "metadata": {},
   "source": [
    "### Return Statement\n",
    "The statement return [expression] exits a function, optionally passing back an expression to the caller. A return statement with no arguments is the same as return None."
   ]
  },
  {
   "cell_type": "code",
   "execution_count": 16,
   "metadata": {},
   "outputs": [
    {
     "name": "stdout",
     "output_type": "stream",
     "text": [
      "30\n"
     ]
    }
   ],
   "source": [
    "def sum(a, b ):\n",
    "   # Add both the parameters and return total\"\n",
    "   total = a + b\n",
    "   return total\n",
    "\n",
    "# Now you can call sum function and pass the result to a variable\n",
    "total = sum(10,20)\n",
    "print(total)"
   ]
  },
  {
   "cell_type": "markdown",
   "metadata": {},
   "source": [
    "### Global vs. Local variables\n",
    "Variables that are defined inside a function body have a local scope, and those defined outside have a global scope.\n",
    "\n",
    "This means that local variables can be accessed only inside the function in which they are declared, whereas global variables can be accessed throughout the program body by all functions. When you call a function, the variables declared inside it are brought into scope."
   ]
  },
  {
   "cell_type": "code",
   "execution_count": 17,
   "metadata": {},
   "outputs": [
    {
     "name": "stdout",
     "output_type": "stream",
     "text": [
      "The total inside the function is: 30\n",
      "The total outside the function is: 0\n"
     ]
    }
   ],
   "source": [
    "sum = 0 # This is global variable.\n",
    "\n",
    "def add_num(a, b):\n",
    "   # Add both the parameters and return total\"\n",
    "   sum = a + b\n",
    "   print(\"The total inside the function is: {}\".format(sum)) \n",
    "   return sum\n",
    "\n",
    "# Now you can call sum function\n",
    "\n",
    "add_num(10,20);\n",
    "print(\"The total outside the function is: {}\".format(sum))"
   ]
  },
  {
   "cell_type": "code",
   "execution_count": 22,
   "metadata": {},
   "outputs": [],
   "source": [
    "def multiply(x,y):\n",
    "    z = x * y\n",
    "    return z\n",
    "\n"
   ]
  },
  {
   "cell_type": "code",
   "execution_count": 23,
   "metadata": {},
   "outputs": [],
   "source": [
    "multiply(2,5);"
   ]
  },
  {
   "cell_type": "code",
   "execution_count": 24,
   "metadata": {},
   "outputs": [],
   "source": [
    "def number(x):\n",
    "    if x % 2 == 0:\n",
    "        print(\"Number is even\")\n",
    "    else:\n",
    "        print(\"Number is odd\")\n",
    "    return x\n",
    "\n"
   ]
  },
  {
   "cell_type": "code",
   "execution_count": 26,
   "metadata": {},
   "outputs": [
    {
     "name": "stdout",
     "output_type": "stream",
     "text": [
      "Number is odd\n"
     ]
    },
    {
     "data": {
      "text/plain": [
       "11"
      ]
     },
     "execution_count": 26,
     "metadata": {},
     "output_type": "execute_result"
    }
   ],
   "source": [
    "number(11)"
   ]
  },
  {
   "cell_type": "code",
   "execution_count": 27,
   "metadata": {},
   "outputs": [],
   "source": [
    "def num(x):\n",
    "    if x % 2 == 0:\n",
    "        print(\"even\")\n",
    "    else:\n",
    "        print(\"odd\")\n",
    "    return    "
   ]
  },
  {
   "cell_type": "code",
   "execution_count": 28,
   "metadata": {},
   "outputs": [
    {
     "name": "stdout",
     "output_type": "stream",
     "text": [
      "even\n"
     ]
    }
   ],
   "source": [
    "num(4)"
   ]
  },
  {
   "cell_type": "code",
   "execution_count": 29,
   "metadata": {},
   "outputs": [],
   "source": [
    "def num(x):\n",
    "    if x % 2 == 0:\n",
    "        print(\"{} is an even number\".format(x))\n",
    "    elif x % 2 ==1:\n",
    "        print(\"{} is an odd number\".format(x))\n",
    "    return"
   ]
  },
  {
   "cell_type": "code",
   "execution_count": 31,
   "metadata": {},
   "outputs": [
    {
     "name": "stdout",
     "output_type": "stream",
     "text": [
      "19 is an odd number\n"
     ]
    }
   ],
   "source": [
    "num(19)"
   ]
  },
  {
   "cell_type": "code",
   "execution_count": 9,
   "metadata": {},
   "outputs": [],
   "source": [
    "def num_sum(a, b):\n",
    "    sum = 0\n",
    "    for i in range(a, b, 1):\n",
    "        sum += i\n",
    "    return sum"
   ]
  },
  {
   "cell_type": "code",
   "execution_count": 15,
   "metadata": {},
   "outputs": [
    {
     "data": {
      "text/plain": [
       "5"
      ]
     },
     "execution_count": 15,
     "metadata": {},
     "output_type": "execute_result"
    }
   ],
   "source": [
    "num_sum(2,4)"
   ]
  },
  {
   "cell_type": "code",
   "execution_count": 36,
   "metadata": {},
   "outputs": [],
   "source": [
    "def even_sum(x, y):\n",
    "    sum = 0\n",
    "    for i in range(x, y):\n",
    "        if i % 2 == 0:\n",
    "            sum += i\n",
    "    return sum\n",
    "        "
   ]
  },
  {
   "cell_type": "code",
   "execution_count": 37,
   "metadata": {},
   "outputs": [
    {
     "data": {
      "text/plain": [
       "2450"
      ]
     },
     "execution_count": 37,
     "metadata": {},
     "output_type": "execute_result"
    }
   ],
   "source": [
    "even_sum(1, 100)"
   ]
  },
  {
   "cell_type": "code",
   "execution_count": 33,
   "metadata": {},
   "outputs": [],
   "source": [
    "def odd_sum(p, q):\n",
    "    sum = 0\n",
    "    for i in range(p, q):\n",
    "        if i % 2 == 1:\n",
    "            g=sum\n",
    "            sum += i\n",
    "            print(\"The sum of {} and {} is {} \" .format(g,i,sum))\n",
    "            #print(\"{} is an odd number\".format(x))\n",
    "    return sum"
   ]
  },
  {
   "cell_type": "code",
   "execution_count": 35,
   "metadata": {},
   "outputs": [
    {
     "name": "stdout",
     "output_type": "stream",
     "text": [
      "The sum of 0 and 1 is 1 \n",
      "The sum of 1 and 3 is 4 \n",
      "The sum of 4 and 5 is 9 \n",
      "The sum of 9 and 7 is 16 \n",
      "The sum of 16 and 9 is 25 \n",
      "The sum of 25 and 11 is 36 \n",
      "The sum of 36 and 13 is 49 \n",
      "The sum of 49 and 15 is 64 \n",
      "The sum of 64 and 17 is 81 \n",
      "The sum of 81 and 19 is 100 \n",
      "The sum of 100 and 21 is 121 \n",
      "The sum of 121 and 23 is 144 \n",
      "The sum of 144 and 25 is 169 \n",
      "The sum of 169 and 27 is 196 \n",
      "The sum of 196 and 29 is 225 \n",
      "The sum of 225 and 31 is 256 \n",
      "The sum of 256 and 33 is 289 \n",
      "The sum of 289 and 35 is 324 \n",
      "The sum of 324 and 37 is 361 \n",
      "The sum of 361 and 39 is 400 \n",
      "The sum of 400 and 41 is 441 \n",
      "The sum of 441 and 43 is 484 \n",
      "The sum of 484 and 45 is 529 \n",
      "The sum of 529 and 47 is 576 \n",
      "The sum of 576 and 49 is 625 \n",
      "The sum of 625 and 51 is 676 \n",
      "The sum of 676 and 53 is 729 \n",
      "The sum of 729 and 55 is 784 \n",
      "The sum of 784 and 57 is 841 \n",
      "The sum of 841 and 59 is 900 \n",
      "The sum of 900 and 61 is 961 \n",
      "The sum of 961 and 63 is 1024 \n",
      "The sum of 1024 and 65 is 1089 \n",
      "The sum of 1089 and 67 is 1156 \n",
      "The sum of 1156 and 69 is 1225 \n",
      "The sum of 1225 and 71 is 1296 \n",
      "The sum of 1296 and 73 is 1369 \n",
      "The sum of 1369 and 75 is 1444 \n",
      "The sum of 1444 and 77 is 1521 \n",
      "The sum of 1521 and 79 is 1600 \n",
      "The sum of 1600 and 81 is 1681 \n",
      "The sum of 1681 and 83 is 1764 \n",
      "The sum of 1764 and 85 is 1849 \n",
      "The sum of 1849 and 87 is 1936 \n",
      "The sum of 1936 and 89 is 2025 \n",
      "The sum of 2025 and 91 is 2116 \n",
      "The sum of 2116 and 93 is 2209 \n",
      "The sum of 2209 and 95 is 2304 \n",
      "The sum of 2304 and 97 is 2401 \n",
      "The sum of 2401 and 99 is 2500 \n",
      "The sum of 0 and 1 is 1 \n",
      "The sum of 1 and 3 is 4 \n",
      "The sum of 4 and 5 is 9 \n",
      "The sum of 9 and 7 is 16 \n",
      "The sum of 16 and 9 is 25 \n",
      "The sum of 25 and 11 is 36 \n",
      "The sum of 36 and 13 is 49 \n",
      "The sum of 49 and 15 is 64 \n",
      "The sum of 64 and 17 is 81 \n",
      "The sum of 81 and 19 is 100 \n",
      "The sum of 100 and 21 is 121 \n",
      "The sum of 121 and 23 is 144 \n",
      "The sum of 144 and 25 is 169 \n",
      "The sum of 169 and 27 is 196 \n",
      "The sum of 196 and 29 is 225 \n",
      "The sum of 225 and 31 is 256 \n",
      "The sum of 256 and 33 is 289 \n",
      "The sum of 289 and 35 is 324 \n",
      "The sum of 324 and 37 is 361 \n",
      "The sum of 361 and 39 is 400 \n",
      "The sum of 400 and 41 is 441 \n",
      "The sum of 441 and 43 is 484 \n",
      "The sum of 484 and 45 is 529 \n",
      "The sum of 529 and 47 is 576 \n",
      "The sum of 576 and 49 is 625 \n",
      "The sum of 625 and 51 is 676 \n",
      "The sum of 676 and 53 is 729 \n",
      "The sum of 729 and 55 is 784 \n",
      "The sum of 784 and 57 is 841 \n",
      "The sum of 841 and 59 is 900 \n",
      "The sum of 900 and 61 is 961 \n",
      "The sum of 961 and 63 is 1024 \n",
      "The sum of 1024 and 65 is 1089 \n",
      "The sum of 1089 and 67 is 1156 \n",
      "The sum of 1156 and 69 is 1225 \n",
      "The sum of 1225 and 71 is 1296 \n",
      "The sum of 1296 and 73 is 1369 \n",
      "The sum of 1369 and 75 is 1444 \n",
      "The sum of 1444 and 77 is 1521 \n",
      "The sum of 1521 and 79 is 1600 \n",
      "The sum of 1600 and 81 is 1681 \n",
      "The sum of 1681 and 83 is 1764 \n",
      "The sum of 1764 and 85 is 1849 \n",
      "The sum of 1849 and 87 is 1936 \n",
      "The sum of 1936 and 89 is 2025 \n",
      "The sum of 2025 and 91 is 2116 \n",
      "The sum of 2116 and 93 is 2209 \n",
      "The sum of 2209 and 95 is 2304 \n",
      "The sum of 2304 and 97 is 2401 \n",
      "The sum of 2401 and 99 is 2500 \n",
      "2500\n"
     ]
    }
   ],
   "source": [
    "odd_sum(1, 100)\n",
    "u=odd_sum(1, 100)\n",
    "print(u)"
   ]
  },
  {
   "cell_type": "code",
   "execution_count": 40,
   "metadata": {},
   "outputs": [],
   "source": [
    "def sentence_count(a, b):\n",
    "    counter = 0\n",
    "    for i in a:\n",
    "        if i == b:\n",
    "            counter += 1\n",
    "            print(i)\n",
    "    \n",
    "    return counter\n",
    "        "
   ]
  },
  {
   "cell_type": "code",
   "execution_count": 41,
   "metadata": {},
   "outputs": [
    {
     "name": "stdout",
     "output_type": "stream",
     "text": [
      "i\n",
      "i\n",
      "i\n",
      "i\n"
     ]
    },
    {
     "data": {
      "text/plain": [
       "4"
      ]
     },
     "execution_count": 41,
     "metadata": {},
     "output_type": "execute_result"
    }
   ],
   "source": [
    "sentence_count(\"This is the viking army\", \"i\")"
   ]
  },
  {
   "cell_type": "code",
   "execution_count": 42,
   "metadata": {},
   "outputs": [],
   "source": [
    "c = \"This is the viking army\""
   ]
  },
  {
   "cell_type": "code",
   "execution_count": 43,
   "metadata": {},
   "outputs": [
    {
     "data": {
      "text/plain": [
       "4"
      ]
     },
     "execution_count": 43,
     "metadata": {},
     "output_type": "execute_result"
    }
   ],
   "source": [
    "c.count(\"i\")"
   ]
  },
  {
   "cell_type": "code",
   "execution_count": 44,
   "metadata": {},
   "outputs": [],
   "source": [
    "def replace_char(x, y, u):\n",
    "    z = []\n",
    "    j = 0\n",
    "    for i in x:\n",
    "        z.append(i)\n",
    "    print(z)\n",
    "    while j < len(z):\n",
    "        if z[j] == y:\n",
    "            z[j] = u\n",
    "        j += 1\n",
    "    print(z)\n",
    "        \n",
    "        "
   ]
  },
  {
   "cell_type": "code",
   "execution_count": 45,
   "metadata": {},
   "outputs": [
    {
     "name": "stdout",
     "output_type": "stream",
     "text": [
      "['I', ' ', 'l', 'i', 'k', 'e', ' ', 'i', 'r', 'i', 's', 'h', ' ', 'i', 'c', 'e', 'c', 'r', 'e', 'a', 'm']\n",
      "['I', ' ', 'l', 'i', 'o', 'e', ' ', 'i', 'r', 'i', 's', 'h', ' ', 'i', 'c', 'e', 'c', 'r', 'e', 'a', 'm']\n"
     ]
    }
   ],
   "source": [
    "replace_char(\"I like irish icecream\", \"k\", \"o\")"
   ]
  },
  {
   "cell_type": "code",
   "execution_count": 37,
   "metadata": {},
   "outputs": [
    {
     "name": "stdout",
     "output_type": "stream",
     "text": [
      "3\n",
      "5\n",
      "7\n",
      "9\n",
      "11\n",
      "13\n",
      "15\n",
      "17\n",
      "19\n"
     ]
    }
   ],
   "source": [
    "x = range(3, 20, 2)\n",
    "for n in x:\n",
    "  print(n)"
   ]
  },
  {
   "cell_type": "code",
   "execution_count": null,
   "metadata": {},
   "outputs": [],
   "source": []
  }
 ],
 "metadata": {
  "kernelspec": {
   "display_name": "Python [conda env:base] *",
   "language": "python",
   "name": "conda-base-py"
  },
  "language_info": {
   "codemirror_mode": {
    "name": "ipython",
    "version": 3
   },
   "file_extension": ".py",
   "mimetype": "text/x-python",
   "name": "python",
   "nbconvert_exporter": "python",
   "pygments_lexer": "ipython3",
   "version": "3.12.7"
  }
 },
 "nbformat": 4,
 "nbformat_minor": 4
}

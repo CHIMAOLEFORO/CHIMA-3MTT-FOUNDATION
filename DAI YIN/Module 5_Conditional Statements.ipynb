{
 "cells": [
  {
   "cell_type": "markdown",
   "metadata": {},
   "source": [
    "# Conditional Statements\n",
    "### if , elif , and else statements\n",
    "\n",
    "Majority of the time when programming, we'll need to control the flow of our logic. Our program will want to perform an action in only certain cases, we can use the **if**, **elif**, and **else** statements to control for these cases. Let's work through some examples:"
   ]
  },
  {
   "cell_type": "markdown",
   "metadata": {},
   "source": [
    "## Simple if Statement\n",
    "The format for an if statement\n",
    "\n",
    "    if some_condition:\n",
    "        # Do Something\n"
   ]
  },
  {
   "cell_type": "code",
   "execution_count": 1,
   "metadata": {},
   "outputs": [
    {
     "name": "stdout",
     "output_type": "stream",
     "text": [
      "One is less than two\n"
     ]
    }
   ],
   "source": [
    "if 1<2:\n",
    "    print('One is less than two')\n",
    "    "
   ]
  },
  {
   "cell_type": "code",
   "execution_count": 3,
   "metadata": {},
   "outputs": [],
   "source": [
    "if 1>2:\n",
    "    print(\"One is greater than two\")"
   ]
  },
  {
   "cell_type": "markdown",
   "metadata": {},
   "source": [
    "Notice what happens, the indented block of code only runs when the if condition is True!"
   ]
  },
  {
   "cell_type": "markdown",
   "metadata": {},
   "source": [
    "## if else Statement\n",
    "\n",
    "Let's now add in an alternate action in case the **if** is not True using the **else** statement.\n",
    "\n",
    "Notice the format and how the code blocks line up, this is crucial in Python! Code indentation let's Python know what blocks and statements correspond together."
   ]
  },
  {
   "cell_type": "code",
   "execution_count": 4,
   "metadata": {},
   "outputs": [
    {
     "name": "stdout",
     "output_type": "stream",
     "text": [
      "One is equal to One\n"
     ]
    }
   ],
   "source": [
    "if 1==1:\n",
    "    print(\"One is equal to One\")\n",
    "else:\n",
    "    print(\"First if was not True\")"
   ]
  },
  {
   "cell_type": "code",
   "execution_count": 5,
   "metadata": {},
   "outputs": [
    {
     "name": "stdout",
     "output_type": "stream",
     "text": [
      "First if was not True\n"
     ]
    }
   ],
   "source": [
    "if 1==2:\n",
    "    print(\"One is equal to Two\")\n",
    "else:\n",
    "    print(\"First if was not True\")"
   ]
  },
  {
   "cell_type": "code",
   "execution_count": 7,
   "metadata": {},
   "outputs": [
    {
     "name": "stdin",
     "output_type": "stream",
     "text": [
      "Enter your password 124567\n"
     ]
    },
    {
     "name": "stdout",
     "output_type": "stream",
     "text": [
      "You're a criminal\n"
     ]
    }
   ],
   "source": [
    "saved_password = 123456\n",
    "new_password = input(\"Enter your password\")\n",
    "\n",
    "if int(new_password) == saved_password:\n",
    "    print(\"Password correct\")\n",
    "else:\n",
    "    print(\"You're a criminal\")"
   ]
  },
  {
   "cell_type": "code",
   "execution_count": 8,
   "metadata": {},
   "outputs": [
    {
     "name": "stdout",
     "output_type": "stream",
     "text": [
      "wrong answer\n"
     ]
    }
   ],
   "source": [
    "if 4 < 3:\n",
    "    print(\"the answer is correct\")\n",
    "else:\n",
    "    print(\"wrong answer\")"
   ]
  },
  {
   "cell_type": "markdown",
   "metadata": {},
   "source": [
    "## if, elif, else \n",
    "\n",
    "Now let's imagine we have multiple conditions to check before the final **else** statement, this is where we can use the **elif** keyword to check for as many individual conditions as necessary:"
   ]
  },
  {
   "cell_type": "code",
   "execution_count": 10,
   "metadata": {},
   "outputs": [
    {
     "name": "stdout",
     "output_type": "stream",
     "text": [
      "None of the above conditions were True\n"
     ]
    }
   ],
   "source": [
    "if 2 == 0:\n",
    "    print('First condition True')\n",
    "elif 2 == 1:\n",
    "    print(\"Second condition True\")\n",
    "elif 2 == 3:\n",
    "    print(\"Third condition True\")\n",
    "else:\n",
    "    print(\"None of the above conditions were True\")"
   ]
  },
  {
   "cell_type": "markdown",
   "metadata": {},
   "source": [
    "Let's see what happens if we had multiple True conditions:"
   ]
  },
  {
   "cell_type": "code",
   "execution_count": 11,
   "metadata": {},
   "outputs": [
    {
     "name": "stdout",
     "output_type": "stream",
     "text": [
      "First condition True\n"
     ]
    }
   ],
   "source": [
    "if 2 == 2:\n",
    "    print('First condition True')\n",
    "elif 2 == 2:\n",
    "    print(\"Second condition True\")\n",
    "elif 2 == 2:\n",
    "    print(\"Third condition True\")\n",
    "else:\n",
    "    print(\"None of the above conditions were True\")"
   ]
  },
  {
   "cell_type": "markdown",
   "metadata": {},
   "source": [
    "Notice how only the first True condition's code block will be executed, keep this in mind when writing your scripts!"
   ]
  },
  {
   "cell_type": "code",
   "execution_count": 15,
   "metadata": {},
   "outputs": [
    {
     "name": "stdin",
     "output_type": "stream",
     "text": [
      "Enter your score  34\n"
     ]
    },
    {
     "name": "stdout",
     "output_type": "stream",
     "text": [
      "Your grade is E\n"
     ]
    }
   ],
   "source": [
    "score = int(input(\"Enter your score \"))\n",
    "#score = int(score)\n",
    "\n",
    "if score >= 70:\n",
    "    print(\"Your grade is A\")\n",
    "elif score >= 60:\n",
    "    print(\"Your grade is B\")\n",
    "elif score >= 50:\n",
    "    print(\"Your grade is C\")\n",
    "elif score >= 40:\n",
    "    print(\"Your grade is D\")\n",
    "elif score >= 30:\n",
    "    print(\"Your grade is E\")\n",
    "else:\n",
    "    print(\"Your grade is F\")"
   ]
  },
  {
   "cell_type": "markdown",
   "metadata": {},
   "source": [
    "https://www.anaconda.com/download"
   ]
  },
  {
   "cell_type": "code",
   "execution_count": null,
   "metadata": {},
   "outputs": [],
   "source": [
    "print(\"No \\t Square \\t cube \\t        Quadruple\")\n",
    "x = 1 \n",
    "while x <= 10:\n",
    "    print(\"{}\".format(x) + 10*\" \" + \"{}\".format(x**2) + 15*\" \" + \"{}\".format(x**3) + 15*\" \" + \"{}\".format(x**4) + 15*\" \")\n",
    "    x += 1\n",
    "\n"
   ]
  },
  {
   "cell_type": "code",
   "execution_count": null,
   "metadata": {},
   "outputs": [],
   "source": [
    "print(\"Number\" + 30*\" \" + \"Even\" + 30*\" \" + \"Odd\")\n",
    "x = 1\n",
    "while x <= 10:\n",
    "    print(x)\n",
    "    x += 1\n",
    "    if x % 2 == 0:\n",
    "        print(35*\" \" + \"{}\".format(x))\n",
    "    elif x % 2 == 1:\n",
    "        print(70*\" \" + \"{}\".format(x))"
   ]
  },
  {
   "cell_type": "code",
   "execution_count": null,
   "metadata": {},
   "outputs": [],
   "source": [
    "number = input(\"enter number \")\n",
    "number_1 = input(\"enter number_1 \")\n",
    "number_2 = input(\"enter number_2 \")\n",
    "number_3 = input(\"enter number_3 \")\n",
    "number_4 = input(\"enter number_4 \")\n",
    "number_5 = input(\"enter number_5 \")\n"
   ]
  },
  {
   "cell_type": "code",
   "execution_count": 16,
   "metadata": {},
   "outputs": [
    {
     "name": "stdout",
     "output_type": "stream",
     "text": [
      "                              *----------*\n",
      "                              *          *\n",
      "                              *          *\n"
     ]
    },
    {
     "ename": "NameError",
     "evalue": "name 'number' is not defined",
     "output_type": "error",
     "traceback": [
      "\u001b[1;31m---------------------------------------------------------------------------\u001b[0m",
      "\u001b[1;31mNameError\u001b[0m                                 Traceback (most recent call last)",
      "Cell \u001b[1;32mIn[16], line 4\u001b[0m\n\u001b[0;32m      2\u001b[0m \u001b[38;5;28mprint\u001b[39m(\u001b[38;5;241m30\u001b[39m\u001b[38;5;241m*\u001b[39m\u001b[38;5;124m\"\u001b[39m\u001b[38;5;124m \u001b[39m\u001b[38;5;124m\"\u001b[39m \u001b[38;5;241m+\u001b[39m \u001b[38;5;124m\"\u001b[39m\u001b[38;5;124m*\u001b[39m\u001b[38;5;124m\"\u001b[39m \u001b[38;5;241m+\u001b[39m \u001b[38;5;241m10\u001b[39m\u001b[38;5;241m*\u001b[39m\u001b[38;5;124m\"\u001b[39m\u001b[38;5;124m \u001b[39m\u001b[38;5;124m\"\u001b[39m \u001b[38;5;241m+\u001b[39m \u001b[38;5;124m\"\u001b[39m\u001b[38;5;124m*\u001b[39m\u001b[38;5;124m\"\u001b[39m)\n\u001b[0;32m      3\u001b[0m \u001b[38;5;28mprint\u001b[39m(\u001b[38;5;241m30\u001b[39m\u001b[38;5;241m*\u001b[39m\u001b[38;5;124m\"\u001b[39m\u001b[38;5;124m \u001b[39m\u001b[38;5;124m\"\u001b[39m \u001b[38;5;241m+\u001b[39m \u001b[38;5;124m\"\u001b[39m\u001b[38;5;124m*\u001b[39m\u001b[38;5;124m\"\u001b[39m \u001b[38;5;241m+\u001b[39m \u001b[38;5;241m10\u001b[39m\u001b[38;5;241m*\u001b[39m\u001b[38;5;124m\"\u001b[39m\u001b[38;5;124m \u001b[39m\u001b[38;5;124m\"\u001b[39m \u001b[38;5;241m+\u001b[39m \u001b[38;5;124m\"\u001b[39m\u001b[38;5;124m*\u001b[39m\u001b[38;5;124m\"\u001b[39m)\n\u001b[1;32m----> 4\u001b[0m \u001b[38;5;28mprint\u001b[39m(\u001b[38;5;241m35\u001b[39m\u001b[38;5;241m*\u001b[39m\u001b[38;5;124m\"\u001b[39m\u001b[38;5;124m \u001b[39m\u001b[38;5;124m\"\u001b[39m \u001b[38;5;241m+\u001b[39m \u001b[38;5;124m\"\u001b[39m\u001b[38;5;132;01m{}\u001b[39;00m\u001b[38;5;124m\"\u001b[39m\u001b[38;5;241m.\u001b[39mformat(number))\n\u001b[0;32m      5\u001b[0m \u001b[38;5;28mprint\u001b[39m(\u001b[38;5;241m30\u001b[39m\u001b[38;5;241m*\u001b[39m\u001b[38;5;124m\"\u001b[39m\u001b[38;5;124m \u001b[39m\u001b[38;5;124m\"\u001b[39m \u001b[38;5;241m+\u001b[39m \u001b[38;5;124m\"\u001b[39m\u001b[38;5;124m*\u001b[39m\u001b[38;5;124m\"\u001b[39m \u001b[38;5;241m+\u001b[39m \u001b[38;5;241m10\u001b[39m\u001b[38;5;241m*\u001b[39m\u001b[38;5;124m\"\u001b[39m\u001b[38;5;124m \u001b[39m\u001b[38;5;124m\"\u001b[39m \u001b[38;5;241m+\u001b[39m \u001b[38;5;124m\"\u001b[39m\u001b[38;5;124m*\u001b[39m\u001b[38;5;124m\"\u001b[39m)\n\u001b[0;32m      6\u001b[0m \u001b[38;5;28mprint\u001b[39m(\u001b[38;5;241m19\u001b[39m\u001b[38;5;241m*\u001b[39m\u001b[38;5;124m\"\u001b[39m\u001b[38;5;124m \u001b[39m\u001b[38;5;124m\"\u001b[39m \u001b[38;5;241m+\u001b[39m \u001b[38;5;124m\"\u001b[39m\u001b[38;5;124m*\u001b[39m\u001b[38;5;124m\"\u001b[39m \u001b[38;5;241m+\u001b[39m \u001b[38;5;241m10\u001b[39m\u001b[38;5;241m*\u001b[39m\u001b[38;5;124m\"\u001b[39m\u001b[38;5;124m-\u001b[39m\u001b[38;5;124m\"\u001b[39m \u001b[38;5;241m+\u001b[39m \u001b[38;5;124m\"\u001b[39m\u001b[38;5;124m*\u001b[39m\u001b[38;5;124m\"\u001b[39m \u001b[38;5;241m+\u001b[39m \u001b[38;5;241m10\u001b[39m\u001b[38;5;241m*\u001b[39m\u001b[38;5;124m\"\u001b[39m\u001b[38;5;124m-\u001b[39m\u001b[38;5;124m\"\u001b[39m \u001b[38;5;241m+\u001b[39m \u001b[38;5;124m\"\u001b[39m\u001b[38;5;124m*\u001b[39m\u001b[38;5;124m\"\u001b[39m )\n",
      "\u001b[1;31mNameError\u001b[0m: name 'number' is not defined"
     ]
    }
   ],
   "source": [
    "print(30*\" \" + \"*\" + 10*\"-\" + \"*\" )\n",
    "print(30*\" \" + \"*\" + 10*\" \" + \"*\")\n",
    "print(30*\" \" + \"*\" + 10*\" \" + \"*\")\n",
    "print(35*\" \" + \"{}\".format(number))\n",
    "print(30*\" \" + \"*\" + 10*\" \" + \"*\")\n",
    "print(19*\" \" + \"*\" + 10*\"-\" + \"*\" + 10*\"-\" + \"*\" )\n",
    "print(19*\" \" + \"*\" + 10*\" \" + \"*\" + 10*\" \" + \"*\" )\n",
    "print(19*\" \" + \"*\" + 10*\" \" + \"*\" + 10*\" \" + \"*\" )\n",
    "print(24*\" \" + \"{}\".format(number_2) + 10*\" \" + \"{}\".format(number_1))\n",
    "print(8*\" \" + \"*\" + 10*\"-\" + \"*\" + 10*\"-\" + \"*\"+ 10*\"-\" + \"*\")\n",
    "print(8*\" \" + \"*\" + 10*\" \" + \"*\" + 10*\" \" + \"*\"+ 10*\" \" + \"*\")\n",
    "print(8*\" \" + \"*\" + 10*\" \" + \"*\" + 10*\" \" + \"*\"+ 10*\" \" + \"*\")\n",
    "print(13*\" \" + \"{}\".format(number_5) + 10*\" \" + \"{}\".format(number_4) + + 10*\" \" + \"{}\".format(number_3))\n",
    "print(8*\" \" + \"*\" + 10*\"-\" + \"*\" + 10*\"-\" + \"*\"+ 10*\"-\" + \"*\")\n",
    "\n"
   ]
  },
  {
   "cell_type": "code",
   "execution_count": 17,
   "metadata": {},
   "outputs": [
    {
     "name": "stdout",
     "output_type": "stream",
     "text": [
      "                              *----------*\n",
      "                              *          *\n",
      "                              *          *\n",
      "                              *          *\n",
      "                   *----------*----------*----------*\n",
      "                   *          *          *          *\n",
      "                   *          *          *          *\n",
      "                   *          *          *          *\n",
      "        *----------*----------*----------*----------*----------*\n",
      "        *          *          *          *          *          *\n",
      "        *          *          *          *          *          *\n",
      "        *          *          *          *          *          *\n",
      "        *----------*----------*----------*----------*----------*\n"
     ]
    }
   ],
   "source": [
    "print(30*\" \" + \"*\" + 10*\"-\" + \"*\" + \"\\n\",29*\" \" + \"*\" + 10*\" \" + \"*\" + \"\\n\", 29*\" \" + \"*\" + 10*\" \" + \"*\" + \"\\n\", 29*\" \" + \"*\" + 10*\" \" + \"*\" + \"\\n\", 18*\" \" + \"*\" + 10*\"-\" + \"*\" + 10*\"-\" + \"*\" + 10*\"-\" + \"*\" + \"\\n\", 18*\" \" + \"*\" + 10*\" \" + \"*\" + 10*\" \" + \"*\" + 10*\" \" + \"*\" + \"\\n\",\n",
    "    18*\" \" + \"*\" + 10*\" \" + \"*\" + 10*\" \" + \"*\" + 10*\" \" + \"*\" + \"\\n\", 18*\" \" + \"*\" + 10*\" \" + \"*\" + 10*\" \" + \"*\" + 10*\" \" + \"*\" + \"\\n\", 7*\" \" + \"*\" + 10*\"-\" + \"*\" + 10*\"-\" + \"*\"+ 10*\"-\" + \"*\" + 10*\"-\" + \"*\" + 10*\"-\" + \"*\" + \"\\n\", 7*\" \" + \"*\" + 10*\" \" + \"*\" + 10*\" \" + \"*\"+ 10*\" \" + \"*\" + 10*\" \" + \"*\" + 10*\" \" + \"*\" + \"\\n\",\n",
    "     7*\" \" + \"*\" + 10*\" \" + \"*\" + 10*\" \" + \"*\"+ 10*\" \" + \"*\" + 10*\" \" + \"*\" + 10*\" \" + \"*\" + \"\\n\", 7*\" \" + \"*\" + 10*\" \" + \"*\" + 10*\" \" + \"*\"+ 10*\" \" + \"*\" + 10*\" \" + \"*\" + 10*\" \" + \"*\" + \"\\n\",  7*\" \" + \"*\" + 10*\"-\" + \"*\" + 10*\"-\" + \"*\"+ 10*\"-\" + \"*\" + 10*\"-\" + \"*\" + 10*\"-\" + \"*\" )"
   ]
  },
  {
   "cell_type": "code",
   "execution_count": null,
   "metadata": {},
   "outputs": [],
   "source": []
  }
 ],
 "metadata": {
  "kernelspec": {
   "display_name": "Python 3 (ipykernel)",
   "language": "python",
   "name": "python3"
  },
  "language_info": {
   "codemirror_mode": {
    "name": "ipython",
    "version": 3
   },
   "file_extension": ".py",
   "mimetype": "text/x-python",
   "name": "python",
   "nbconvert_exporter": "python",
   "pygments_lexer": "ipython3",
   "version": "3.12.7"
  }
 },
 "nbformat": 4,
 "nbformat_minor": 4
}

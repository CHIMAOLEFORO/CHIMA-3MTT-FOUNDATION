{
 "cells": [
  {
   "cell_type": "markdown",
   "metadata": {
    "id": "rH3RQpSb35ER"
   },
   "source": [
    "# Lists and Loops\n",
    "\n",
    "\n",
    "### Lists\n",
    "We've learned that strings are sequences of characters. Similarly, lists are sequences of objects, they can hold a variety of data types in order, and they follow the same sequence and indexing bracket rules that strings do. They can also take in mixed data types. \n",
    "\n",
    "Let's explore some useful examples:"
   ]
  },
  {
   "cell_type": "code",
   "execution_count": null,
   "metadata": {
    "id": "wtP7rnNF35EV",
    "outputId": "f3745dbc-047a-4ef1-e753-fb742f5206b6"
   },
   "outputs": [],
   "source": [
    "alist = []\n",
    "type(alist)"
   ]
  },
  {
   "cell_type": "code",
   "execution_count": null,
   "metadata": {
    "id": "TabIAdxX35Ed"
   },
   "outputs": [],
   "source": [
    "my_list = [1,2,3]"
   ]
  },
  {
   "cell_type": "code",
   "execution_count": null,
   "metadata": {
    "id": "eeSvxG3o35Ee",
    "outputId": "27bb05cd-a060-4b6f-807a-59370355f91b"
   },
   "outputs": [],
   "source": [
    "print(my_list)"
   ]
  },
  {
   "cell_type": "code",
   "execution_count": null,
   "metadata": {
    "id": "UAwGwl2735Ef"
   },
   "outputs": [],
   "source": [
    "my_list2 = ['a','b','c', 1, 2, 'orange', 'banana', 3,4,5]"
   ]
  },
  {
   "cell_type": "code",
   "execution_count": null,
   "metadata": {},
   "outputs": [],
   "source": [
    "my_list2"
   ]
  },
  {
   "cell_type": "code",
   "execution_count": null,
   "metadata": {
    "id": "aGG7YIvK35Eh"
   },
   "outputs": [],
   "source": [
    "a = 100\n",
    "b = 200\n",
    "c = 300\n",
    "my_list3 = [a,b,c]"
   ]
  },
  {
   "cell_type": "code",
   "execution_count": null,
   "metadata": {
    "id": "9-hl595a35Ei",
    "outputId": "98192096-670d-4eb8-a1e4-0fe39a86b2f8"
   },
   "outputs": [],
   "source": [
    "my_list3"
   ]
  },
  {
   "cell_type": "code",
   "execution_count": 5,
   "metadata": {},
   "outputs": [],
   "source": [
    "a = \"Modinat\"\n",
    "b = \"Olabisi\"\n",
    "c = \"Alli\"\n",
    "d = 100\n",
    "e = 200"
   ]
  },
  {
   "cell_type": "code",
   "execution_count": 7,
   "metadata": {},
   "outputs": [],
   "source": [
    "modinat_list = [a,b,c,d,e]"
   ]
  },
  {
   "cell_type": "code",
   "execution_count": 9,
   "metadata": {},
   "outputs": [
    {
     "name": "stdout",
     "output_type": "stream",
     "text": [
      "['Modinat', 'Olabisi', 'Alli', 100, 200]\n"
     ]
    }
   ],
   "source": [
    "print(modinat_list)"
   ]
  },
  {
   "cell_type": "code",
   "execution_count": null,
   "metadata": {},
   "outputs": [],
   "source": [
    "fruits = [\"banana\", \"orange\", \"pineapple\", \"apple\"]\n",
    "fruits"
   ]
  },
  {
   "cell_type": "code",
   "execution_count": null,
   "metadata": {},
   "outputs": [],
   "source": [
    "mixed_objects = [1,2,100, \"car\", 2.5, \"house\"]\n",
    "mixed_objects"
   ]
  },
  {
   "cell_type": "code",
   "execution_count": 11,
   "metadata": {},
   "outputs": [],
   "source": [
    "_mixed_objects = [1,2,3]"
   ]
  },
  {
   "cell_type": "code",
   "execution_count": 13,
   "metadata": {},
   "outputs": [
    {
     "data": {
      "text/plain": [
       "[1, 2, 3]"
      ]
     },
     "execution_count": 13,
     "metadata": {},
     "output_type": "execute_result"
    }
   ],
   "source": [
    "_mixed_objects"
   ]
  },
  {
   "cell_type": "markdown",
   "metadata": {
    "id": "HFVAu-i-35Ej"
   },
   "source": [
    "## Indexing and Slicing\n",
    "\n",
    "This works the same as in a string!"
   ]
  },
  {
   "cell_type": "code",
   "execution_count": 17,
   "metadata": {
    "id": "_vc29jri35Ek"
   },
   "outputs": [],
   "source": [
    "mylist = ['a','b','c','d']"
   ]
  },
  {
   "cell_type": "code",
   "execution_count": 19,
   "metadata": {},
   "outputs": [
    {
     "data": {
      "text/plain": [
       "['a', 'b', 'c', 'd']"
      ]
     },
     "execution_count": 19,
     "metadata": {},
     "output_type": "execute_result"
    }
   ],
   "source": [
    "mylist"
   ]
  },
  {
   "cell_type": "code",
   "execution_count": 21,
   "metadata": {
    "id": "0x7pcjJ435Em",
    "outputId": "56fbda6a-f819-4ea3-fb6e-3dba1cbe05bc"
   },
   "outputs": [
    {
     "data": {
      "text/plain": [
       "'d'"
      ]
     },
     "execution_count": 21,
     "metadata": {},
     "output_type": "execute_result"
    }
   ],
   "source": [
    "mylist[3]"
   ]
  },
  {
   "cell_type": "code",
   "execution_count": 23,
   "metadata": {},
   "outputs": [],
   "source": [
    "the_list = [\"Tinubu\", 25, \"Buhari\", \"Abuja\", \"Benue\", 74, \"Modinat\"]"
   ]
  },
  {
   "cell_type": "code",
   "execution_count": 25,
   "metadata": {},
   "outputs": [
    {
     "name": "stdout",
     "output_type": "stream",
     "text": [
      "['Tinubu', 25, 'Buhari', 'Abuja', 'Benue', 74, 'Modinat']\n"
     ]
    }
   ],
   "source": [
    "print(the_list)"
   ]
  },
  {
   "cell_type": "code",
   "execution_count": 27,
   "metadata": {},
   "outputs": [
    {
     "data": {
      "text/plain": [
       "7"
      ]
     },
     "execution_count": 27,
     "metadata": {},
     "output_type": "execute_result"
    }
   ],
   "source": [
    "len(the_list)"
   ]
  },
  {
   "cell_type": "code",
   "execution_count": null,
   "metadata": {},
   "outputs": [],
   "source": [
    "the_list[6]"
   ]
  },
  {
   "cell_type": "code",
   "execution_count": null,
   "metadata": {},
   "outputs": [],
   "source": [
    "the_list[5]"
   ]
  },
  {
   "cell_type": "code",
   "execution_count": null,
   "metadata": {
    "id": "QsG14m_P35E3",
    "outputId": "950d2748-0b0b-4cae-8033-bc2ec9982d07"
   },
   "outputs": [],
   "source": [
    "#slicing a list\n",
    "the_list[0:3]"
   ]
  },
  {
   "cell_type": "code",
   "execution_count": null,
   "metadata": {},
   "outputs": [],
   "source": [
    "the_list[0:5:3]"
   ]
  },
  {
   "cell_type": "code",
   "execution_count": null,
   "metadata": {},
   "outputs": [],
   "source": [
    "the_list[0::3]"
   ]
  },
  {
   "cell_type": "code",
   "execution_count": null,
   "metadata": {},
   "outputs": [],
   "source": [
    "the_list[::3]"
   ]
  },
  {
   "cell_type": "markdown",
   "metadata": {
    "id": "Gqf3j5jj35E6"
   },
   "source": [
    "### The len function\n",
    "\n",
    "Python has built in functions that you can call. We'll slowly introduce more of them as we need them. One useful built in function is the **len** function which returns back the length of an object."
   ]
  },
  {
   "cell_type": "code",
   "execution_count": null,
   "metadata": {
    "id": "7s-VITXI35FK",
    "outputId": "d87437ca-73c3-4ba6-873f-e63ae064c990"
   },
   "outputs": [],
   "source": [
    "len('string')"
   ]
  },
  {
   "cell_type": "code",
   "execution_count": null,
   "metadata": {
    "id": "bq3SGn4035Fc",
    "outputId": "c1676bd5-55fd-4bcc-f38b-57039f98bd18"
   },
   "outputs": [],
   "source": [
    "len(my_list)"
   ]
  },
  {
   "cell_type": "code",
   "execution_count": null,
   "metadata": {},
   "outputs": [],
   "source": [
    "len(the_list)"
   ]
  },
  {
   "cell_type": "markdown",
   "metadata": {
    "id": "XhxuHfsG35Fs"
   },
   "source": [
    "## Useful List Methods\n",
    "\n",
    "Methods are actions you can call off a function. Their typical format is:\n",
    "\n",
    "    mylist = [1,2,3]\n",
    "    mylist.some_method()\n",
    "    \n",
    "You must call the parenthesis to execute the method! Let's go through a few useful ones pertaining to lists."
   ]
  },
  {
   "cell_type": "code",
   "execution_count": null,
   "metadata": {
    "id": "CYlRls8235F6"
   },
   "outputs": [],
   "source": [
    "mylist = [1,2,3]"
   ]
  },
  {
   "cell_type": "code",
   "execution_count": null,
   "metadata": {
    "id": "W_LtYDFp35F6"
   },
   "outputs": [],
   "source": [
    "#adds an oject to the end of A LIST\n",
    "mylist.append(6)"
   ]
  },
  {
   "cell_type": "code",
   "execution_count": null,
   "metadata": {
    "id": "Syul8Ban35F7",
    "outputId": "de0aed4a-9d3d-4eba-e30f-fb1d6df623fb"
   },
   "outputs": [],
   "source": [
    "mylist"
   ]
  },
  {
   "cell_type": "code",
   "execution_count": 59,
   "metadata": {},
   "outputs": [],
   "source": [
    "some_list = [\"Esebom\", \"Charles\", \"Stephen\"]"
   ]
  },
  {
   "cell_type": "code",
   "execution_count": 60,
   "metadata": {},
   "outputs": [
    {
     "data": {
      "text/plain": [
       "['Esebom', 'Charles', 'Stephen']"
      ]
     },
     "execution_count": 60,
     "metadata": {},
     "output_type": "execute_result"
    }
   ],
   "source": [
    "some_list"
   ]
  },
  {
   "cell_type": "code",
   "execution_count": 61,
   "metadata": {},
   "outputs": [],
   "source": [
    "some_list.append(\"Modinat\")"
   ]
  },
  {
   "cell_type": "code",
   "execution_count": 62,
   "metadata": {},
   "outputs": [
    {
     "data": {
      "text/plain": [
       "['Esebom', 'Charles', 'Stephen', 'Modinat']"
      ]
     },
     "execution_count": 62,
     "metadata": {},
     "output_type": "execute_result"
    }
   ],
   "source": [
    "some_list"
   ]
  },
  {
   "cell_type": "code",
   "execution_count": null,
   "metadata": {},
   "outputs": [],
   "source": [
    "mylist.append(12)"
   ]
  },
  {
   "cell_type": "code",
   "execution_count": null,
   "metadata": {},
   "outputs": [],
   "source": [
    "mylist"
   ]
  },
  {
   "cell_type": "code",
   "execution_count": 63,
   "metadata": {
    "id": "4I0ujouJ35F8",
    "outputId": "bd70b199-1e87-4fbf-9f31-c80cf2af3df6"
   },
   "outputs": [
    {
     "data": {
      "text/plain": [
       "'Modinat'"
      ]
     },
     "execution_count": 63,
     "metadata": {},
     "output_type": "execute_result"
    }
   ],
   "source": [
    "#removes an object from the end of a list\n",
    "some_list.pop()"
   ]
  },
  {
   "cell_type": "code",
   "execution_count": 64,
   "metadata": {
    "id": "QsmF28wv35F9",
    "outputId": "17fab1fa-4143-4e4d-ef24-83ff7455a78b"
   },
   "outputs": [
    {
     "data": {
      "text/plain": [
       "['Esebom', 'Charles', 'Stephen']"
      ]
     },
     "execution_count": 64,
     "metadata": {},
     "output_type": "execute_result"
    }
   ],
   "source": [
    "some_list"
   ]
  },
  {
   "cell_type": "code",
   "execution_count": null,
   "metadata": {},
   "outputs": [],
   "source": [
    "mylist.pop()"
   ]
  },
  {
   "cell_type": "code",
   "execution_count": null,
   "metadata": {},
   "outputs": [],
   "source": [
    "mylist"
   ]
  },
  {
   "cell_type": "code",
   "execution_count": null,
   "metadata": {
    "id": "1agrZlpa35GG",
    "outputId": "9df49243-19cf-4a74-f3a7-8f0708d9d4cd"
   },
   "outputs": [],
   "source": [
    "mylist.append(5)"
   ]
  },
  {
   "cell_type": "code",
   "execution_count": null,
   "metadata": {
    "id": "ybV8Uhj635GH"
   },
   "outputs": [],
   "source": [
    "mylist.append(4)"
   ]
  },
  {
   "cell_type": "code",
   "execution_count": null,
   "metadata": {
    "id": "vn4f9G5w35GN"
   },
   "outputs": [],
   "source": [
    "mylist.append(10)\n",
    "mylist.append(20)"
   ]
  },
  {
   "cell_type": "code",
   "execution_count": null,
   "metadata": {
    "id": "p0oTEwsb35GO",
    "outputId": "b6b1855b-29b3-4563-8990-2acf245139a1"
   },
   "outputs": [],
   "source": [
    "mylist"
   ]
  },
  {
   "cell_type": "code",
   "execution_count": null,
   "metadata": {
    "id": "PemrJhKC35GV"
   },
   "outputs": [],
   "source": [
    "lastitem = mylist.pop()"
   ]
  },
  {
   "cell_type": "code",
   "execution_count": null,
   "metadata": {
    "id": "4odXVBSZ35GW",
    "outputId": "fe37d6a5-6512-489e-cb0e-5d5f79f7f706"
   },
   "outputs": [],
   "source": [
    "lastitem"
   ]
  },
  {
   "cell_type": "code",
   "execution_count": null,
   "metadata": {
    "id": "paE4Kwa_35GX",
    "outputId": "14491b35-101d-4c26-9df9-f1cfe8b2630c"
   },
   "outputs": [],
   "source": [
    "mylist"
   ]
  },
  {
   "cell_type": "code",
   "execution_count": null,
   "metadata": {
    "id": "lWg-3IL435GY"
   },
   "outputs": [],
   "source": [
    "#it removes the first item\n",
    "first_item = mylist.pop(0)"
   ]
  },
  {
   "cell_type": "code",
   "execution_count": null,
   "metadata": {
    "id": "hj8vlJWy35GZ",
    "outputId": "4d46fbf5-63b9-4aa3-da41-2cbd1cb1ec54"
   },
   "outputs": [],
   "source": [
    "first_item"
   ]
  },
  {
   "cell_type": "code",
   "execution_count": null,
   "metadata": {
    "id": "EBpvFz6J35Gc",
    "outputId": "88acb92e-2eec-4961-8151-dcab48b0d2ca"
   },
   "outputs": [],
   "source": [
    "mylist"
   ]
  },
  {
   "cell_type": "code",
   "execution_count": null,
   "metadata": {},
   "outputs": [],
   "source": [
    "mylist.pop(1)"
   ]
  },
  {
   "cell_type": "code",
   "execution_count": null,
   "metadata": {},
   "outputs": [],
   "source": [
    "mylist"
   ]
  },
  {
   "cell_type": "code",
   "execution_count": 65,
   "metadata": {
    "id": "hAIxsgLT35Ge"
   },
   "outputs": [],
   "source": [
    "mylist = [1,2,3]"
   ]
  },
  {
   "cell_type": "code",
   "execution_count": 54,
   "metadata": {
    "id": "obxi517U35Gg"
   },
   "outputs": [],
   "source": [
    "# This method doesn't return anything.\n",
    "# Instead it performs the action \"in-place\" , or on the list itself without returning anything.\n",
    "mylist.reverse()"
   ]
  },
  {
   "cell_type": "code",
   "execution_count": 55,
   "metadata": {
    "id": "wuDdJqaB35Gh",
    "outputId": "c987fd83-ee53-4499-d4c1-cb2138238192"
   },
   "outputs": [
    {
     "data": {
      "text/plain": [
       "[3, 2, 1]"
      ]
     },
     "execution_count": 55,
     "metadata": {},
     "output_type": "execute_result"
    }
   ],
   "source": [
    "mylist"
   ]
  },
  {
   "cell_type": "code",
   "execution_count": null,
   "metadata": {
    "id": "PrISLi5j35Gi"
   },
   "outputs": [],
   "source": [
    "# Also in place\n",
    "mylist.sort(reverse=False)"
   ]
  },
  {
   "cell_type": "code",
   "execution_count": 56,
   "metadata": {
    "id": "vACPmuyI35Gu",
    "outputId": "c0badb95-8fe8-4057-fb39-cd623b64bdcd"
   },
   "outputs": [
    {
     "data": {
      "text/plain": [
       "[3, 2, 1]"
      ]
     },
     "execution_count": 56,
     "metadata": {},
     "output_type": "execute_result"
    }
   ],
   "source": [
    "mylist"
   ]
  },
  {
   "cell_type": "code",
   "execution_count": 57,
   "metadata": {},
   "outputs": [],
   "source": [
    "mylist.sort()"
   ]
  },
  {
   "cell_type": "code",
   "execution_count": 58,
   "metadata": {},
   "outputs": [
    {
     "data": {
      "text/plain": [
       "[1, 2, 3]"
      ]
     },
     "execution_count": 58,
     "metadata": {},
     "output_type": "execute_result"
    }
   ],
   "source": [
    "mylist"
   ]
  },
  {
   "cell_type": "code",
   "execution_count": null,
   "metadata": {},
   "outputs": [],
   "source": [
    "mylist.sort(reverse=True)"
   ]
  },
  {
   "cell_type": "code",
   "execution_count": null,
   "metadata": {},
   "outputs": [],
   "source": [
    "mylist"
   ]
  },
  {
   "cell_type": "code",
   "execution_count": null,
   "metadata": {
    "id": "A_6kWOxX35Gv"
   },
   "outputs": [],
   "source": [
    "# THIS WON'T WORK!\n",
    "result = mylist.reverse()"
   ]
  },
  {
   "cell_type": "code",
   "execution_count": null,
   "metadata": {
    "id": "-2j2LLWH35Gv"
   },
   "outputs": [],
   "source": [
    "# Doesn't return anything\n",
    "result"
   ]
  },
  {
   "cell_type": "code",
   "execution_count": null,
   "metadata": {
    "id": "qZ2RpAze35G-",
    "outputId": "092ed07d-18e8-4e6d-bbde-70674c265d04"
   },
   "outputs": [],
   "source": [
    "print(result)"
   ]
  },
  {
   "cell_type": "code",
   "execution_count": 66,
   "metadata": {
    "id": "njayFSAF35Hb",
    "outputId": "287c9350-7342-4712-adc8-0df8fb9076df"
   },
   "outputs": [
    {
     "data": {
      "text/plain": [
       "[1, 2, 3]"
      ]
     },
     "execution_count": 66,
     "metadata": {},
     "output_type": "execute_result"
    }
   ],
   "source": [
    "mylist"
   ]
  },
  {
   "cell_type": "code",
   "execution_count": 67,
   "metadata": {
    "id": "GXRqHl_Q35Ht"
   },
   "outputs": [],
   "source": [
    "mylist.insert(3,'middle')"
   ]
  },
  {
   "cell_type": "code",
   "execution_count": 68,
   "metadata": {
    "id": "KshP0O9H35Hv",
    "outputId": "a170b547-4498-486e-f691-11ac2fa1059f"
   },
   "outputs": [
    {
     "data": {
      "text/plain": [
       "[1, 2, 3, 'middle']"
      ]
     },
     "execution_count": 68,
     "metadata": {},
     "output_type": "execute_result"
    }
   ],
   "source": [
    "mylist"
   ]
  },
  {
   "cell_type": "code",
   "execution_count": 69,
   "metadata": {},
   "outputs": [],
   "source": [
    "mylist.insert(1, \"church\")"
   ]
  },
  {
   "cell_type": "code",
   "execution_count": 70,
   "metadata": {},
   "outputs": [
    {
     "data": {
      "text/plain": [
       "[1, 'church', 2, 3, 'middle']"
      ]
     },
     "execution_count": 70,
     "metadata": {},
     "output_type": "execute_result"
    }
   ],
   "source": [
    "mylist"
   ]
  },
  {
   "cell_type": "markdown",
   "metadata": {
    "id": "8i4HXnjD35H_"
   },
   "source": [
    "## Nested Lists\n",
    "\n",
    "Lists can hold other lists! This is called a nested list. Let's see some examples."
   ]
  },
  {
   "cell_type": "code",
   "execution_count": null,
   "metadata": {
    "id": "h8AqUbH_35H_"
   },
   "outputs": [],
   "source": [
    "new_list = [1,2,3,['a','b','c']]"
   ]
  },
  {
   "cell_type": "code",
   "execution_count": null,
   "metadata": {},
   "outputs": [],
   "source": [
    "len(new_list)"
   ]
  },
  {
   "cell_type": "code",
   "execution_count": null,
   "metadata": {},
   "outputs": [],
   "source": [
    "print(new_list)"
   ]
  },
  {
   "cell_type": "code",
   "execution_count": null,
   "metadata": {
    "id": "uOpCjx8w35IM",
    "outputId": "b7153753-47f6-40ca-e5be-cb600914e48a"
   },
   "outputs": [],
   "source": [
    "new_list[3]"
   ]
  },
  {
   "cell_type": "code",
   "execution_count": null,
   "metadata": {
    "id": "rsJxkt7S35IT",
    "outputId": "38e004e5-84dd-49b7-a335-8be8d1211f00"
   },
   "outputs": [],
   "source": [
    "type(new_list)"
   ]
  },
  {
   "cell_type": "code",
   "execution_count": null,
   "metadata": {
    "id": "cV7X1uJZ35Ii",
    "outputId": "1d2a6394-6df5-4090-c9a4-057b9b93c9a3"
   },
   "outputs": [],
   "source": [
    "new_list[3][1]"
   ]
  },
  {
   "cell_type": "code",
   "execution_count": null,
   "metadata": {},
   "outputs": [],
   "source": [
    "new_list[3][2]"
   ]
  },
  {
   "cell_type": "code",
   "execution_count": null,
   "metadata": {},
   "outputs": [],
   "source": [
    "the_new_list = [\"Boy\", \"Money\", 5,[\"orange\", \"francisca\", 7, [1,2,3]]]"
   ]
  },
  {
   "cell_type": "code",
   "execution_count": null,
   "metadata": {},
   "outputs": [],
   "source": [
    "len(the_new_list)"
   ]
  },
  {
   "cell_type": "code",
   "execution_count": null,
   "metadata": {},
   "outputs": [],
   "source": [
    "the_new_list[3]"
   ]
  },
  {
   "cell_type": "code",
   "execution_count": null,
   "metadata": {},
   "outputs": [],
   "source": [
    "the_new_list[3][3]"
   ]
  },
  {
   "cell_type": "code",
   "execution_count": null,
   "metadata": {},
   "outputs": [],
   "source": [
    "the_new_list[3][3][2]"
   ]
  },
  {
   "cell_type": "code",
   "execution_count": null,
   "metadata": {
    "id": "k0I7jEzr35Ii",
    "outputId": "33bef014-f323-4348-f901-02ffd5336883"
   },
   "outputs": [],
   "source": [
    "new_list[3]"
   ]
  },
  {
   "cell_type": "code",
   "execution_count": null,
   "metadata": {
    "id": "GlKpy9oT35I7"
   },
   "outputs": [],
   "source": [
    "list_1 = [2,3,\"four\", [20,30,40, [\"one\", \"two\", \"three\"]]]"
   ]
  },
  {
   "cell_type": "code",
   "execution_count": null,
   "metadata": {
    "id": "lPCUhjzk35I-",
    "outputId": "02ad575c-6172-4500-ccc6-f4c68a78ff58"
   },
   "outputs": [],
   "source": [
    "list_1[3][3][1:]"
   ]
  },
  {
   "cell_type": "markdown",
   "metadata": {
    "id": "kjvw63Sd35JE"
   },
   "source": [
    "# Loops\n",
    "\n",
    "### WHILE LOOPS\n",
    "A while loop will repeatedly execute a single statement or group of statements as long as the condition being checked is true. The reason it is called a 'loop' is because the code statements are looped through over and over again until the condition is no longer met.\n",
    "\n",
    "Code indentation becomes very important as we begin to work with loops and control flow."
   ]
  },
  {
   "cell_type": "code",
   "execution_count": 1,
   "metadata": {
    "id": "sGdjZDhV35JR",
    "outputId": "1eb27dea-405d-4f52-8f63-f3b3736fea2c"
   },
   "outputs": [
    {
     "name": "stdout",
     "output_type": "stream",
     "text": [
      "1 is less than 10\n",
      "2 is less than 10\n",
      "3 is less than 10\n",
      "4 is less than 10\n",
      "5 is less than 10\n",
      "6 is less than 10\n",
      "7 is less than 10\n",
      "8 is less than 10\n",
      "9 is less than 10\n"
     ]
    }
   ],
   "source": [
    "a = 1\n",
    "\n",
    "while a < 10:\n",
    "    print(\"{} is less than 10\".format(a))\n",
    "    a = a + 1 #increasing value of a\n",
    "    "
   ]
  },
  {
   "cell_type": "code",
   "execution_count": 2,
   "metadata": {},
   "outputs": [
    {
     "name": "stdout",
     "output_type": "stream",
     "text": [
      "1 is less than 10\n",
      "2 is less than 10\n",
      "3 is less than 10\n",
      "4 is less than 10\n",
      "5 is less than 10\n",
      "6 is less than 10\n",
      "7 is less than 10\n",
      "8 is less than 10\n",
      "9 is less than 10\n"
     ]
    }
   ],
   "source": [
    "a = 1\n",
    "\n",
    "while a < 10:\n",
    "    \n",
    "    print(\"{} is less than 10\".format(a))\n",
    "    a += 1 #increasing the value of a"
   ]
  },
  {
   "cell_type": "code",
   "execution_count": 3,
   "metadata": {
    "colab": {
     "background_save": true,
     "base_uri": "https://localhost:8080/"
    },
    "id": "ePw1cy0r3_do"
   },
   "outputs": [
    {
     "name": "stdout",
     "output_type": "stream",
     "text": [
      "This is the beginning of fun\n"
     ]
    },
    {
     "name": "stdin",
     "output_type": "stream",
     "text": [
      "Enter your Username here :   Ese\n"
     ]
    },
    {
     "name": "stdout",
     "output_type": "stream",
     "text": [
      "Welcome to our world Ese.\n"
     ]
    },
    {
     "name": "stdin",
     "output_type": "stream",
     "text": [
      "Enter your password here :   12345678\n"
     ]
    },
    {
     "name": "stdout",
     "output_type": "stream",
     "text": [
      "You can now begin your adventure.....\n"
     ]
    }
   ],
   "source": [
    "#creating a mobile app interface\n",
    "\n",
    "print('This is the beginning of fun')\n",
    "name = input('Enter your Username here :  ')\n",
    "print(f'Welcome to our world {name}.')\n",
    "passwd = input('Enter your password here :  ')\n",
    "\n",
    "while len(passwd) < 8:\n",
    "    print('Password must be at least 8 characters in length!!')\n",
    "    passwd = input('Enter your password here :  ')\n",
    "    continue\n",
    "    \n",
    "else:\n",
    "    print('You can now begin your adventure.....')"
   ]
  },
  {
   "cell_type": "code",
   "execution_count": 4,
   "metadata": {
    "executionInfo": {
     "elapsed": 98,
     "status": "aborted",
     "timestamp": 1626179988385,
     "user": {
      "displayName": "Samuel Fadunsin",
      "photoUrl": "https://lh3.googleusercontent.com/a-/AOh14GjjW8I8E8y9iZbUHyxQKAa5RcsqowDJc2nqaXeN=s64",
      "userId": "04231975294199101918"
     },
     "user_tz": -60
    },
    "id": "kRjH7ZHv35JW"
   },
   "outputs": [
    {
     "name": "stdout",
     "output_type": "stream",
     "text": [
      "X is currently\n",
      "0\n",
      "Adding 1 to x\n",
      "X is currently\n",
      "1\n",
      "Adding 1 to x\n",
      "X is currently\n",
      "2\n",
      "Adding 1 to x\n"
     ]
    }
   ],
   "source": [
    "# Start by setting variable x to 0\n",
    "x = 0\n",
    "\n",
    "while x < 3:\n",
    "    print('X is currently')\n",
    "    print(x)\n",
    "    print(\"Adding 1 to x\")\n",
    "    x = x + 1 #alternatively you could write x += 1"
   ]
  },
  {
   "cell_type": "markdown",
   "metadata": {
    "id": "K0sYMX-y35Jh"
   },
   "source": [
    "____\n",
    "#### Note This!\n",
    "Be careful with while loops! There is a potential to write a condition that always remains True, meaning you have an infinite running while loop. If this happens to you, you can stop/restart the kernel."
   ]
  },
  {
   "cell_type": "markdown",
   "metadata": {
    "id": "R-NzlVAD35Ji"
   },
   "source": [
    "# break keyword"
   ]
  },
  {
   "cell_type": "markdown",
   "metadata": {
    "id": "chy1JpNv35Jj"
   },
   "source": [
    "\n",
    "The break keyword allows you to \"break\" out of the loop that contains the break keyword. For example"
   ]
  },
  {
   "cell_type": "code",
   "execution_count": 7,
   "metadata": {
    "id": "eFI4C1KP35Jj",
    "outputId": "6dd438d7-6011-4327-a5d3-31af842cb5b1"
   },
   "outputs": [
    {
     "name": "stdout",
     "output_type": "stream",
     "text": [
      "0\n",
      "adding one to x\n",
      "1\n",
      "adding one to x\n",
      "2\n",
      "adding one to x\n"
     ]
    }
   ],
   "source": [
    "x = 0 #initializinng x assigning 0 to x\n",
    "\n",
    "while x < 10:\n",
    "    print(x)\n",
    "    print('adding one to x')\n",
    "    x = x + 1 #incrementing value of x by 1 and assigning to x\n",
    "    \n",
    "    if x == 3: \n",
    "        # This will cause to break out of the top loop \n",
    "        # Note that if statements don't count as loops\n",
    "        break"
   ]
  },
  {
   "cell_type": "markdown",
   "metadata": {},
   "source": [
    "Jupyter notebook"
   ]
  },
  {
   "cell_type": "markdown",
   "metadata": {
    "id": "twN1iZMu35Jk"
   },
   "source": [
    "Excellent work recruit! Let's move on to discuss for loops!"
   ]
  },
  {
   "cell_type": "markdown",
   "metadata": {
    "id": "iYoIVdTv35KD"
   },
   "source": [
    "# for loop\n",
    "\n",
    "A **for loop** acts as an iterator in Python, it goes through items that are in a sequence or any other iterable item. Objects that we've learned about that we can iterate over include strings,lists,tuples, and even built in iterables for dictionaries, such as the keys or values.\n",
    "\n",
    "Here's the general format for a for loop in Python:\n",
    "\n",
    "    for item in object:\n",
    "        statements to do stuff\n",
    "        \n",
    "The variable name used for the item is completely up to the coder, so use your best judgment for choosing a name that makes sense and you will be able to understand when revisiting your code."
   ]
  },
  {
   "cell_type": "markdown",
   "metadata": {
    "id": "itYYHVMV35KF"
   },
   "source": [
    "## for loop with a list"
   ]
  },
  {
   "cell_type": "code",
   "execution_count": 8,
   "metadata": {
    "id": "qVddQ0a235KF",
    "outputId": "9a9422d4-b8b2-4824-f529-47f6ac2d57f8"
   },
   "outputs": [
    {
     "name": "stdout",
     "output_type": "stream",
     "text": [
      "1\n",
      "2\n",
      "3\n",
      "4\n"
     ]
    }
   ],
   "source": [
    "mylist = [1,2,3,4]\n",
    "\n",
    "for num in mylist:\n",
    "    print(num)"
   ]
  },
  {
   "cell_type": "code",
   "execution_count": 13,
   "metadata": {},
   "outputs": [
    {
     "name": "stdout",
     "output_type": "stream",
     "text": [
      "1\n",
      "2\n",
      "3\n",
      "4\n"
     ]
    }
   ],
   "source": [
    "for ese in mylist:\n",
    "    print(ese)"
   ]
  },
  {
   "cell_type": "code",
   "execution_count": 9,
   "metadata": {},
   "outputs": [
    {
     "name": "stdout",
     "output_type": "stream",
     "text": [
      "1\n",
      "4\n",
      "9\n",
      "16\n"
     ]
    }
   ],
   "source": [
    "mylist = [1,2,3,4]\n",
    "\n",
    "for item in mylist:\n",
    "    print(item**2) #print the square of each number"
   ]
  },
  {
   "cell_type": "code",
   "execution_count": 11,
   "metadata": {},
   "outputs": [
    {
     "data": {
      "text/plain": [
       "25"
      ]
     },
     "execution_count": 11,
     "metadata": {},
     "output_type": "execute_result"
    }
   ],
   "source": [
    "a = 5\n",
    "a**2 #exponent"
   ]
  },
  {
   "cell_type": "code",
   "execution_count": 12,
   "metadata": {
    "id": "Cx2o-QtW35KG",
    "outputId": "f35e46b4-2802-4e68-de2b-0f58c6c91304"
   },
   "outputs": [
    {
     "name": "stdout",
     "output_type": "stream",
     "text": [
      "1\n",
      "2\n",
      "3\n",
      "4\n"
     ]
    }
   ],
   "source": [
    "for totally_made_up in mylist:\n",
    "    print(totally_made_up)"
   ]
  },
  {
   "cell_type": "code",
   "execution_count": 14,
   "metadata": {
    "id": "-vTG6Il435KH",
    "outputId": "effb8b06-0fc9-49e6-8ef5-a9b18748bdc0"
   },
   "outputs": [
    {
     "name": "stdout",
     "output_type": "stream",
     "text": [
      "1 2 3 4 "
     ]
    }
   ],
   "source": [
    "for num in mylist:\n",
    "    print(num,end=' ')"
   ]
  },
  {
   "cell_type": "code",
   "execution_count": 15,
   "metadata": {
    "id": "_DiGftGy35KI",
    "outputId": "5a61fc81-c3e8-4bba-df8a-edb93c5e4f3c"
   },
   "outputs": [
    {
     "name": "stdout",
     "output_type": "stream",
     "text": [
      "I am in a for loop\n",
      "I am in a for loop\n",
      "I am in a for loop\n",
      "I am in a for loop\n"
     ]
    }
   ],
   "source": [
    "for num in mylist:\n",
    "    print(\"I am in a for loop\")"
   ]
  },
  {
   "cell_type": "markdown",
   "metadata": {
    "id": "bXUHNMCt35KP"
   },
   "source": [
    "## for loop with strings"
   ]
  },
  {
   "cell_type": "code",
   "execution_count": 16,
   "metadata": {
    "id": "oZRq5yC535KP",
    "outputId": "2a707968-b1cc-4a7d-d7e7-9cc3bf7fd7b8"
   },
   "outputs": [
    {
     "name": "stdout",
     "output_type": "stream",
     "text": [
      "T\n",
      "h\n",
      "i\n",
      "s\n",
      " \n",
      "i\n",
      "s\n",
      " \n",
      "a\n",
      " \n",
      "s\n",
      "t\n",
      "r\n",
      "i\n",
      "n\n",
      "g\n"
     ]
    }
   ],
   "source": [
    "string = \"This is a string\"\n",
    "for character in string :\n",
    "    print(character )"
   ]
  },
  {
   "cell_type": "code",
   "execution_count": 17,
   "metadata": {
    "id": "vszFzRqa35KQ",
    "outputId": "f76d2021-6fc5-4c30-9d97-6de6605c3228"
   },
   "outputs": [
    {
     "name": "stdout",
     "output_type": "stream",
     "text": [
      "This\n",
      "is\n",
      "a\n",
      "string\n"
     ]
    }
   ],
   "source": [
    "string = \"This is a string\"\n",
    "\n",
    "for word in string.split():\n",
    "    print(word)"
   ]
  },
  {
   "cell_type": "code",
   "execution_count": 18,
   "metadata": {},
   "outputs": [
    {
     "name": "stdout",
     "output_type": "stream",
     "text": [
      "This is a string "
     ]
    }
   ],
   "source": [
    "for word in string.split():\n",
    "    print(word, end = \" \") "
   ]
  },
  {
   "cell_type": "code",
   "execution_count": 19,
   "metadata": {},
   "outputs": [],
   "source": [
    "sentence = \"\"\"Where does it come from?\n",
    "Contrary to popular belief, Lorem Ipsum is not simply random text. It has roots in a piece of classical Latin literature from 45 BC, making it over 2000 years old. Richard McClintock, a Latin professor at Hampden-Sydney College in Virginia, looked up one of the more obscure Latin words, consectetur, from a Lorem Ipsum passage, and going through the cites of the word in classical literature, discovered the undoubtable source. Lorem Ipsum comes from sections 1.10.32 and 1.10.33 of \"de Finibus Bonorum et Malorum\" (The Extremes of Good and Evil) by Cicero, written in 45 BC. This book is a treatise on the theory of ethics, very popular during the Renaissance. The first line of Lorem Ipsum, \"Lorem ipsum dolor sit amet..\", comes from a line in section 1.10.32.\n",
    "\n",
    "The standard chunk of Lorem Ipsum used since the 1500s is reproduced below for those interested. Sections 1.10.32 and 1.10.33 from \"de Finibus Bonorum et Malorum\" by Cicero are also reproduced in their exact original form, accompanied by English versions from the 1914 translation by H. Rackham.\"\"\""
   ]
  },
  {
   "cell_type": "code",
   "execution_count": 20,
   "metadata": {},
   "outputs": [
    {
     "name": "stdout",
     "output_type": "stream",
     "text": [
      "60\n"
     ]
    }
   ],
   "source": [
    "counter = 0\n",
    "for item in sentence:\n",
    "    if item == \"i\":\n",
    "        counter += 1\n",
    "print(counter)"
   ]
  },
  {
   "cell_type": "code",
   "execution_count": 23,
   "metadata": {},
   "outputs": [
    {
     "name": "stdout",
     "output_type": "stream",
     "text": [
      "89\n"
     ]
    }
   ],
   "source": [
    "counter = 0\n",
    "for item in sentence:\n",
    "    if item == \"e\":\n",
    "        counter += 1\n",
    "print(counter)"
   ]
  },
  {
   "cell_type": "markdown",
   "metadata": {
    "id": "uyVumdxJ35KR"
   },
   "source": [
    "## for loop with tuple"
   ]
  },
  {
   "cell_type": "code",
   "execution_count": 24,
   "metadata": {},
   "outputs": [],
   "source": [
    "#tuple\n",
    "a = (1,2,3,4,5)"
   ]
  },
  {
   "cell_type": "code",
   "execution_count": 25,
   "metadata": {},
   "outputs": [
    {
     "data": {
      "text/plain": [
       "(1, 2, 3, 4, 5)"
      ]
     },
     "execution_count": 25,
     "metadata": {},
     "output_type": "execute_result"
    }
   ],
   "source": [
    "a"
   ]
  },
  {
   "cell_type": "code",
   "execution_count": 26,
   "metadata": {},
   "outputs": [
    {
     "data": {
      "text/plain": [
       "tuple"
      ]
     },
     "execution_count": 26,
     "metadata": {},
     "output_type": "execute_result"
    }
   ],
   "source": [
    "type(a)"
   ]
  },
  {
   "cell_type": "code",
   "execution_count": 27,
   "metadata": {
    "id": "jN_BZ4W835KR",
    "outputId": "5134dde9-de73-4c1e-a142-4be33dbbb5c4"
   },
   "outputs": [
    {
     "name": "stdout",
     "output_type": "stream",
     "text": [
      "1 2 3 4 "
     ]
    }
   ],
   "source": [
    "tup = (1,2,3,4)\n",
    "\n",
    "for num in tup:\n",
    "    print(num, end = ' ')"
   ]
  },
  {
   "cell_type": "markdown",
   "metadata": {
    "id": "wIEC-_zu35KS"
   },
   "source": [
    "## tuple unpacking"
   ]
  },
  {
   "cell_type": "code",
   "execution_count": 28,
   "metadata": {
    "id": "UWBAbPO935KT"
   },
   "outputs": [],
   "source": [
    "list_of_tups = [(1,2),(3,4),(5,6),(7,8),(9,10)]"
   ]
  },
  {
   "cell_type": "code",
   "execution_count": 29,
   "metadata": {},
   "outputs": [
    {
     "data": {
      "text/plain": [
       "[(1, 2), (3, 4), (5, 6), (7, 8), (9, 10)]"
      ]
     },
     "execution_count": 29,
     "metadata": {},
     "output_type": "execute_result"
    }
   ],
   "source": [
    "list_of_tups"
   ]
  },
  {
   "cell_type": "code",
   "execution_count": 30,
   "metadata": {},
   "outputs": [
    {
     "data": {
      "text/plain": [
       "list"
      ]
     },
     "execution_count": 30,
     "metadata": {},
     "output_type": "execute_result"
    }
   ],
   "source": [
    "type(list_of_tups)"
   ]
  },
  {
   "cell_type": "code",
   "execution_count": 33,
   "metadata": {
    "id": "c2rZvwe535K5",
    "outputId": "dd219c51-b8cf-4614-c1e5-a6a3712258e8"
   },
   "outputs": [
    {
     "name": "stdout",
     "output_type": "stream",
     "text": [
      "(1, 2)\n",
      "(3, 4)\n",
      "(5, 6)\n",
      "(7, 8)\n",
      "(9, 10)\n"
     ]
    }
   ],
   "source": [
    "for x in list_of_tups:\n",
    "    print(x)"
   ]
  },
  {
   "cell_type": "code",
   "execution_count": 34,
   "metadata": {
    "id": "ZMlyZ_We35LJ",
    "outputId": "032a088d-c973-4d0a-fed1-84952f1c839f"
   },
   "outputs": [
    {
     "name": "stdout",
     "output_type": "stream",
     "text": [
      "1\n",
      "3\n",
      "5\n",
      "7\n",
      "9\n"
     ]
    }
   ],
   "source": [
    "for x in list_of_tups:\n",
    "    print(x[0])"
   ]
  },
  {
   "cell_type": "code",
   "execution_count": 35,
   "metadata": {
    "id": "k1lQWyBE35LQ",
    "outputId": "6e89ac8e-d303-4345-f1bb-6ef6051e8bed"
   },
   "outputs": [
    {
     "name": "stdout",
     "output_type": "stream",
     "text": [
      "2\n",
      "4\n",
      "6\n",
      "8\n",
      "10\n"
     ]
    }
   ],
   "source": [
    "for x in list_of_tups:\n",
    "    print(x[1])"
   ]
  },
  {
   "cell_type": "code",
   "execution_count": 36,
   "metadata": {
    "id": "y9WK1tVo35LS",
    "outputId": "24643289-33ac-43bb-aad4-8761105cbf13"
   },
   "outputs": [
    {
     "name": "stdout",
     "output_type": "stream",
     "text": [
      "1\n",
      "2\n",
      "\n",
      "\n",
      "3\n",
      "4\n",
      "\n",
      "\n",
      "5\n",
      "6\n",
      "\n",
      "\n",
      "7\n",
      "8\n",
      "\n",
      "\n",
      "9\n",
      "10\n",
      "\n",
      "\n"
     ]
    }
   ],
   "source": [
    "# Doesn't need the parenthesis\n",
    "\n",
    "for num1,num2 in list_of_tups:\n",
    "    print(num1)\n",
    "    print(num2)\n",
    "    print('\\n')\n",
    "    "
   ]
  },
  {
   "cell_type": "code",
   "execution_count": 37,
   "metadata": {},
   "outputs": [
    {
     "name": "stdout",
     "output_type": "stream",
     "text": [
      "1\n",
      "2\n",
      "3\n",
      "4\n"
     ]
    }
   ],
   "source": [
    "a =  (1,2,3,4)\n",
    "for item in a:\n",
    "    print(item)"
   ]
  },
  {
   "cell_type": "code",
   "execution_count": 38,
   "metadata": {},
   "outputs": [
    {
     "data": {
      "text/plain": [
       "4"
      ]
     },
     "execution_count": 38,
     "metadata": {},
     "output_type": "execute_result"
    }
   ],
   "source": [
    "2+2"
   ]
  },
  {
   "cell_type": "code",
   "execution_count": 39,
   "metadata": {},
   "outputs": [
    {
     "data": {
      "text/plain": [
       "4"
      ]
     },
     "execution_count": 39,
     "metadata": {},
     "output_type": "execute_result"
    }
   ],
   "source": [
    "A = 2 \n",
    "B = 2\n",
    "A+B"
   ]
  },
  {
   "cell_type": "markdown",
   "metadata": {},
   "source": [
    "Keywords in python\n",
    "https://www.w3schools.com/python/python_ref_keywords.asp\n",
    "\n",
    "Variable names in python: https://www.w3schools.com/python/python_variables_names.asp"
   ]
  },
  {
   "cell_type": "markdown",
   "metadata": {
    "id": "FneOh1zX35LT"
   },
   "source": [
    "## for loop with dictionaries"
   ]
  },
  {
   "cell_type": "code",
   "execution_count": 41,
   "metadata": {
    "id": "W6b2Yw3535LU"
   },
   "outputs": [],
   "source": [
    "my_dictionary = {'a':1,'b':2,'c':3} "
   ]
  },
  {
   "cell_type": "code",
   "execution_count": 42,
   "metadata": {},
   "outputs": [
    {
     "name": "stdout",
     "output_type": "stream",
     "text": [
      "{'a': 1, 'b': 2, 'c': 3}\n"
     ]
    }
   ],
   "source": [
    "print(my_dictionary)"
   ]
  },
  {
   "cell_type": "markdown",
   "metadata": {
    "id": "N0XzakcG35LV"
   },
   "source": [
    "Remember that dictionaries don't retain any order! So only loop through them with this in mind!"
   ]
  },
  {
   "cell_type": "code",
   "execution_count": 43,
   "metadata": {
    "id": "r1pAUeLv35LV",
    "outputId": "f6381c93-1b99-48a6-f4f2-1a49d17fc751"
   },
   "outputs": [
    {
     "name": "stdout",
     "output_type": "stream",
     "text": [
      "a\n",
      "b\n",
      "c\n"
     ]
    }
   ],
   "source": [
    "for item in my_dictionary:\n",
    "    print(item)"
   ]
  },
  {
   "cell_type": "code",
   "execution_count": 44,
   "metadata": {
    "id": "r_FQEG7U35LW",
    "outputId": "c35386d4-d90e-4dde-b474-8340149ba59c"
   },
   "outputs": [
    {
     "name": "stdout",
     "output_type": "stream",
     "text": [
      "1\n",
      "2\n",
      "3\n"
     ]
    }
   ],
   "source": [
    "for k in my_dictionary.values():\n",
    "    print(k)"
   ]
  },
  {
   "cell_type": "code",
   "execution_count": 47,
   "metadata": {
    "id": "-gHKe-oS35LW",
    "outputId": "ffaa027b-b1cc-466e-dab0-eb3579d989bb"
   },
   "outputs": [
    {
     "name": "stdout",
     "output_type": "stream",
     "text": [
      "a\n",
      "1\n",
      "\n",
      "\n",
      "b\n",
      "2\n",
      "\n",
      "\n",
      "c\n",
      "3\n",
      "\n",
      "\n"
     ]
    }
   ],
   "source": [
    "for k in my_dictionary.keys():\n",
    "    print(k)\n",
    "    print(my_dictionary[k])\n",
    "    print('\\n')"
   ]
  },
  {
   "cell_type": "markdown",
   "metadata": {
    "id": "k3OKeaId35LX"
   },
   "source": [
    "----"
   ]
  },
  {
   "cell_type": "markdown",
   "metadata": {
    "id": "fZB6FLmv35LY"
   },
   "source": [
    "## continue\n",
    "The continue keyword can be a bit tricky to see its usefulness, but it allows you to continue with the top level loop, basicaly the opposite of break. It will take time before you realize a good situation to use it in, but here is a simple example:"
   ]
  },
  {
   "cell_type": "code",
   "execution_count": 48,
   "metadata": {
    "id": "v7vQfZT135LY",
    "outputId": "483b24ff-8c1b-40eb-f572-5d074d5c4023"
   },
   "outputs": [
    {
     "name": "stdout",
     "output_type": "stream",
     "text": [
      "Your score is 30\n",
      "Your score is 40\n",
      "Your score is 60\n"
     ]
    }
   ],
   "source": [
    "scores = [30,40,50,60]\n",
    "\n",
    "for num in scores:\n",
    "    if num == 50:\n",
    "        continue\n",
    "    print(\"Your score is\", num)"
   ]
  },
  {
   "cell_type": "code",
   "execution_count": null,
   "metadata": {
    "id": "dE2xh6tT35La",
    "outputId": "fc726444-a805-4fd4-e31f-4a755a52f0cd"
   },
   "outputs": [],
   "source": [
    "for letter in 'code':\n",
    "    if letter == 'e':\n",
    "        continue\n",
    "    \n",
    "    print('Current Letter is:',letter)"
   ]
  },
  {
   "cell_type": "code",
   "execution_count": null,
   "metadata": {
    "id": "a3JkfBLn35Lf"
   },
   "outputs": [],
   "source": []
  }
 ],
 "metadata": {
  "colab": {
   "name": "Module 4_Lists and For Loops.ipynb",
   "version": ""
  },
  "kernelspec": {
   "display_name": "Python [conda env:base] *",
   "language": "python",
   "name": "conda-base-py"
  },
  "language_info": {
   "codemirror_mode": {
    "name": "ipython",
    "version": 3
   },
   "file_extension": ".py",
   "mimetype": "text/x-python",
   "name": "python",
   "nbconvert_exporter": "python",
   "pygments_lexer": "ipython3",
   "version": "3.12.7"
  }
 },
 "nbformat": 4,
 "nbformat_minor": 4
}

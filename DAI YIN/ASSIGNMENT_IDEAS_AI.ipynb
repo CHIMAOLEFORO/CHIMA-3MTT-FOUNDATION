{
 "cells": [
  {
   "cell_type": "markdown",
   "id": "d3663aef-50ed-47c0-a2c8-525fbd13d2a3",
   "metadata": {},
   "source": [
    "Task\n",
    "Given an integer,n, perform the following conditional actions:\n",
    "\n",
    "If n is odd, print Weird\n",
    "If n is even and in the inclusive range of 2 to 5, print Not Weird\n",
    "If n is even and in the inclusive range of 6 to 20, print Weird\n",
    "If n is even and greater than 20, print Not Weird\n",
    "Input Format\n",
    "\n",
    "A single line containing a positive integer, n.\n",
    "\n",
    "Constraints\n",
    "1<= n <= 100\n",
    "Output Format\n",
    "\n",
    "Print Weird if the number is weird. Otherwise, print Not Weird.\n",
    "\n",
    "Sample Input 0\n",
    "\n",
    "3\n",
    "Sample Output 0\n",
    "\n",
    "Weird\n",
    "Explanation 0\n",
    "n = 3\n",
    "n is odd and odd numbers are weird, so print Weird.\n",
    "\n",
    "n is odd and odd numbers are weird, so print Weird.\n",
    "\n",
    "Sample Input 1\n",
    "\n",
    "24\n",
    "Sample Output 1\n",
    "Not Weird\n",
    "\n",
    "Explanation 1\n",
    "n = 24\n",
    "\n",
    "n > 20 and n is even, so it is not weird."
   ]
  },
  {
   "cell_type": "code",
   "execution_count": null,
   "id": "34be1ab4-9e42-474f-a652-ac6bb21fcf52",
   "metadata": {},
   "outputs": [],
   "source": [
    "n = int(input().strip())\n"
   ]
  },
  {
   "cell_type": "markdown",
   "id": "85ae2550-23f1-4d48-8d4f-abda9570dad2",
   "metadata": {},
   "source": [
    "The provided code stub reads an integer, n, from INPUT. For all non-negative integer, n, print i**2.\n",
    "\n",
    "Example\n",
    "n = 3\n",
    "The list of non-negative integers that are less than n = 3 is [0,1,2]. Print the square of each number on a separate line.\n",
    "\n",
    "0\n",
    "1\n",
    "4\n",
    "Input Format\n",
    "\n",
    "The first and only line contains the integer, n.\n",
    "\n",
    "Constraints\n",
    "1 <= n <= 20\n",
    "\n",
    "Output Format\n",
    "\n",
    "Print n lines, one corresponding to each i.\n",
    "\n",
    "Sample Input 0\n",
    "\n",
    "5\n",
    "Sample Output 0\n",
    "\n",
    "0\n",
    "1\n",
    "4\n",
    "9\n",
    "16"
   ]
  },
  {
   "cell_type": "code",
   "execution_count": null,
   "id": "5bf7ecb0-ce23-47a8-862f-1fc7b8025801",
   "metadata": {},
   "outputs": [],
   "source": [
    "  n = int(input())"
   ]
  }
 ],
 "metadata": {
  "kernelspec": {
   "display_name": "Python 3 (ipykernel)",
   "language": "python",
   "name": "python3"
  },
  "language_info": {
   "codemirror_mode": {
    "name": "ipython",
    "version": 3
   },
   "file_extension": ".py",
   "mimetype": "text/x-python",
   "name": "python",
   "nbconvert_exporter": "python",
   "pygments_lexer": "ipython3",
   "version": "3.12.7"
  }
 },
 "nbformat": 4,
 "nbformat_minor": 5
}
